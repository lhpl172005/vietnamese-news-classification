{
 "cells": [
  {
   "cell_type": "code",
   "execution_count": 2,
   "id": "8241d813-02c4-4cb1-a9ef-bdf1f968cf76",
   "metadata": {},
   "outputs": [
    {
     "name": "stdout",
     "output_type": "stream",
     "text": [
      "Đã đọc file thành công với encoding UTF-8:\n",
      "   Unnamed: 0.1  Unnamed: 0      id      author  \\\n",
      "0             0           0  218270         NaN   \n",
      "1             1           1  218269  doãn hằng    \n",
      "2             2           2  218268         NaN   \n",
      "3             3           3  218267         NaN   \n",
      "4             4           4  218266      mi lan   \n",
      "\n",
      "                                             content  picture_count  \\\n",
      "0  Chiều 31/7, Công an tỉnh Thừa Thiên - Huế thôn...              3   \n",
      "1  Gần đây, Thứ trưởng Bộ Phát triển Kỹ thuật số,...              1   \n",
      "2  Kết thi nghiệp THPT 2022 trung bình môn toán, ...              3   \n",
      "3  Thống đốc Kentucky Andy Beshear hôm 31/7 đợt m...              1   \n",
      "4  Vụ tai nạn giao thông liên hoàn phố đi Tam Bạc...             12   \n",
      "\n",
      "   processed        source                                              title  \\\n",
      "0          0     docbao.vn  Tên cướp tiệm vàng Huế đại uý công an, công tá...   \n",
      "1          0        vtc.vn                   Bỏ mạng 5G, Nga tiến thẳng 4G 6G   \n",
      "2          0  thanhnien.vn  Địa phương đứng đầu tổng 3 môn văn, toán, ngoạ...   \n",
      "3          0     vnexpress                Người chết mưa lũ 'nghìn một' Mỹ 28   \n",
      "4          0          soha  Hải Phòng: Hình ảnh xe \"điên\" tai nạn liên hoà...   \n",
      "\n",
      "                 topic                                                url  \\\n",
      "0            Pháp luật  https://docbao.vn/phap-luat/ten-cuop-tiem-vang...   \n",
      "1  Sức khỏe - Đời sống  https://vtc.vn/bo-qua-mang-5g-nga-tien-thang-t...   \n",
      "2             Giáo dục  https://thanhnien.vn/dia-phuong-nao-dung-dau-c...   \n",
      "3             Thế giới  https://vnexpress.net/nguoi-chet-trong-mua-lu-...   \n",
      "4              Thời sự  https://soha.vn/hai-phong-hinh-anh-xe-dien-gay...   \n",
      "\n",
      "                   crawled_at  \n",
      "0  2022-08-01 09:09:22.817308  \n",
      "1  2022-08-01 09:09:21.181469  \n",
      "2  2022-08-01 09:09:15.311901  \n",
      "3  2022-08-01 09:09:02.211498  \n",
      "4  2022-08-01 09:09:01.601170  \n"
     ]
    }
   ],
   "source": [
    "import pandas as pd\n",
    "file_path = 'Fixed_news_dataset.csv' \n",
    "\n",
    "try:\n",
    "    df = pd.read_csv(file_path, encoding='utf-8')\n",
    "    \n",
    "    # In ra 5 dòng đầu để kiểm tra\n",
    "    print(\"Đã đọc file thành công với encoding UTF-8:\")\n",
    "    print(df.head())\n",
    "\n",
    "except Exception as e:\n",
    "    print(f\"Có lỗi xảy ra: {e}\")\n",
    "    print(\"Hãy kiểm tra lại tên file hoặc đường dẫn.\")"
   ]
  },
  {
   "cell_type": "code",
   "execution_count": null,
   "id": "d4330432-548a-4fea-81ae-aebcc5c3d014",
   "metadata": {},
   "outputs": [],
   "source": []
  },
  {
   "cell_type": "code",
   "execution_count": 5,
   "id": "bfb0f341-a6c2-4715-a2a2-169e3c91684d",
   "metadata": {},
   "outputs": [
    {
     "name": "stdout",
     "output_type": "stream",
     "text": [
      "Dữ liệu sau khi chỉ giữ lại 2 cột và xóa dòng thiếu:\n",
      "                                             content                topic\n",
      "0  Chiều 31/7, Công an tỉnh Thừa Thiên - Huế thôn...            Pháp luật\n",
      "1  Gần đây, Thứ trưởng Bộ Phát triển Kỹ thuật số,...  Sức khỏe - Đời sống\n",
      "2  Kết thi nghiệp THPT 2022 trung bình môn toán, ...             Giáo dục\n",
      "3  Thống đốc Kentucky Andy Beshear hôm 31/7 đợt m...             Thế giới\n",
      "4  Vụ tai nạn giao thông liên hoàn phố đi Tam Bạc...              Thời sự\n"
     ]
    }
   ],
   "source": [
    "# 1. Chọn ra 2 cột cần thiết\n",
    "df = df[['content', 'topic']]\n",
    "\n",
    "# 2. Xóa các dòng có giá trị bị thiếu (nếu có)\n",
    "df.dropna(inplace=True)\n",
    "\n",
    "# In ra để xem kết quả\n",
    "print(\"Dữ liệu sau khi chỉ giữ lại 2 cột và xóa dòng thiếu:\")\n",
    "print(df.head())"
   ]
  },
  {
   "cell_type": "code",
   "execution_count": 6,
   "id": "ffd4328b-582c-4b89-b73c-1bd284a0e3fc",
   "metadata": {},
   "outputs": [
    {
     "name": "stdout",
     "output_type": "stream",
     "text": [
      "Câu gốc: 'Chào mừng bạn đến với Machine Learning, hôm nay trời đẹp quá!!!'\n",
      "Câu sau khi xử lý: 'chào_mừng machine learning hôm_nay trời đẹp'\n"
     ]
    }
   ],
   "source": [
    "import re\n",
    "from pyvi import ViTokenizer\n",
    "\n",
    "# --- Tải danh sách stopwords ---\n",
    "stopwords_path = 'vietnamese-stopwords.txt'\n",
    "try:\n",
    "    with open(stopwords_path, 'r', encoding='utf-8') as f:\n",
    "        stopwords = f.read().splitlines()\n",
    "except FileNotFoundError:\n",
    "    print(f\"Lỗi: Không tìm thấy file stopwords tại '{stopwords_path}'.\")\n",
    "    print(\"Hãy chắc chắn bạn đã tải file và đặt đúng vào thư mục dự án.\")\n",
    "    stopwords = [] # Dùng danh sách rỗng nếu không tìm thấy file\n",
    "\n",
    "# --- Xây dựng hàm tiền xử lý ---\n",
    "def preprocess_text(text):\n",
    "    # 1. Chuyển thành chữ thường\n",
    "    text = text.lower()\n",
    "    \n",
    "    # 2. Xóa các ký tự đặc biệt, số, và dấu câu nhưng giữ lại tiếng Việt\n",
    "    text = re.sub(r'[^\\s\\wáàảãạăắằẳẵặâấầẩẫậéèẻẽẹêếềểễệíìỉĩịóòỏõọôốồổỗộơớờởỡợúùủũụưứừửữựýỳỷỹỵđ]', ' ', text)\n",
    "    \n",
    "    # 3. Tách từ\n",
    "    text = ViTokenizer.tokenize(text)\n",
    "    \n",
    "    # 4. Loại bỏ stopwords\n",
    "    words = text.split()\n",
    "    words = [word for word in words if word not in stopwords]\n",
    "    text = ' '.join(words)\n",
    "    \n",
    "    return text\n",
    "\n",
    "# In thử kết quả của hàm với một câu mẫu\n",
    "sample_text = \"Chào mừng bạn đến với Machine Learning, hôm nay trời đẹp quá!!!\"\n",
    "processed_sample = preprocess_text(sample_text)\n",
    "print(f\"Câu gốc: '{sample_text}'\")\n",
    "print(f\"Câu sau khi xử lý: '{processed_sample}'\")"
   ]
  },
  {
   "cell_type": "code",
   "execution_count": 7,
   "id": "408357bd-f521-43b7-8d86-96bc73680f9e",
   "metadata": {},
   "outputs": [
    {
     "name": "stdout",
     "output_type": "stream",
     "text": [
      "Bắt đầu quá trình tiền xử lý...\n",
      "Hoàn thành!\n",
      "                                             content                topic  \\\n",
      "0  Chiều 31/7, Công an tỉnh Thừa Thiên - Huế thôn...            Pháp luật   \n",
      "1  Gần đây, Thứ trưởng Bộ Phát triển Kỹ thuật số,...  Sức khỏe - Đời sống   \n",
      "2  Kết thi nghiệp THPT 2022 trung bình môn toán, ...             Giáo dục   \n",
      "3  Thống đốc Kentucky Andy Beshear hôm 31/7 đợt m...             Thế giới   \n",
      "4  Vụ tai nạn giao thông liên hoàn phố đi Tam Bạc...              Thời sự   \n",
      "\n",
      "                                     cleaned_content  \n",
      "0  chiều 31 7 công_an tỉnh thừa thiên huế thông b...  \n",
      "1  thứ_trưởng phát_triển kỹ_thuật_số truyền_thông...  \n",
      "2  kết_thi nghiệp thpt 2022 trung_bình môn toán n...  \n",
      "3  thống_đốc kentucky andy beshear hôm 31 7 đợt m...  \n",
      "4  vụ tai_nạn giao_thông liên_hoàn phố đi tam bạc...  \n"
     ]
    }
   ],
   "source": [
    "# Áp dụng hàm preprocess_text cho cột 'content'\n",
    "print(\"Bắt đầu quá trình tiền xử lý...\")\n",
    "df['cleaned_content'] = df['content'].apply(preprocess_text)\n",
    "print(\"Hoàn thành!\")\n",
    "\n",
    "# Xem kết quả sau khi có thêm cột mới 'cleaned_content'\n",
    "print(df.head())"
   ]
  },
  {
   "cell_type": "code",
   "execution_count": 9,
   "id": "80bf95e9-7272-4bd9-8632-639e8ff66093",
   "metadata": {},
   "outputs": [
    {
     "name": "stdout",
     "output_type": "stream",
     "text": [
      "Bắt đầu biến đổi dữ liệu train bằng TF-IDF...\n",
      "Bắt đầu biến đổi dữ liệu test...\n",
      "Hoàn thành!\n",
      "Kích thước của ma trận train (số tài liệu, số từ vựng): (128974, 259302)\n",
      "Kích thước của ma trận test (số tài liệu, số từ vựng): (32244, 259302)\n"
     ]
    }
   ],
   "source": [
    "from sklearn.model_selection import train_test_split\n",
    "from sklearn.feature_extraction.text import TfidfVectorizer\n",
    "\n",
    "# 1. Tách dữ liệu thành X (đặc trưng) và y (nhãn)\n",
    "X = df['cleaned_content']\n",
    "y = df['topic']\n",
    "\n",
    "# 2. Chia dữ liệu thành tập train và test (tỷ lệ 80/20)\n",
    "# random_state=42 giúp kết quả chia luôn giống nhau mỗi lần chạy\n",
    "X_train, X_test, y_train, y_test = train_test_split(X, y, test_size=0.2, random_state=42)\n",
    "\n",
    "# 3. Khởi tạo và áp dụng TF-IDF\n",
    "# Khởi tạo TfidfVectorizer\n",
    "tfidf_vectorizer = TfidfVectorizer()\n",
    "\n",
    "# Học từ vựng từ tập train và biến đổi X_train thành ma trận TF-IDF\n",
    "print(\"Bắt đầu biến đổi dữ liệu train bằng TF-IDF...\")\n",
    "X_train_tfidf = tfidf_vectorizer.fit_transform(X_train)\n",
    "\n",
    "# Chỉ biến đổi X_test dựa trên từ vựng đã học từ tập train\n",
    "print(\"Bắt đầu biến đổi dữ liệu test...\")\n",
    "X_test_tfidf = tfidf_vectorizer.transform(X_test)\n",
    "print(\"Hoàn thành!\")\n",
    "\n",
    "# 4. In ra kích thước của ma trận kết quả\n",
    "print(f\"Kích thước của ma trận train (số tài liệu, số từ vựng): {X_train_tfidf.shape}\")\n",
    "print(f\"Kích thước của ma trận test (số tài liệu, số từ vựng): {X_test_tfidf.shape}\")"
   ]
  },
  {
   "cell_type": "code",
   "execution_count": 10,
   "id": "2a097920-d1ca-4706-b156-8a4ad6fc890c",
   "metadata": {},
   "outputs": [
    {
     "name": "stdout",
     "output_type": "stream",
     "text": [
      "Bắt đầu huấn luyện mô hình Naive Bayes...\n",
      "Đã huấn luyện xong!\n",
      "Bắt đầu dự đoán trên tập test...\n",
      "Đã dự đoán xong!\n",
      "------------------------------\n",
      "🎉 Độ chính xác (Accuracy) của mô hình là: 64.75%\n",
      "------------------------------\n",
      "Báo cáo phân loại chi tiết (Classification Report):\n",
      "                        precision    recall  f1-score   support\n",
      "\n",
      "               Bạn đọc       0.00      0.00      0.00       344\n",
      "          Bất động sản       0.00      0.00      0.00       303\n",
      "             Chính trị       1.00      0.01      0.01       779\n",
      "             Công nghệ       0.88      0.11      0.19       837\n",
      "              Giáo dục       0.84      0.52      0.64      1539\n",
      "Kinh doanh - Tài chính       0.56      0.63      0.60      2066\n",
      "               Kinh tế       0.00      0.00      0.00      1036\n",
      "           Pháp luật       0.00      0.00      0.00         1\n",
      "             Pháp luật       0.76      0.76      0.76      2121\n",
      "            Quốc phòng       0.00      0.00      0.00       198\n",
      "   Sức khỏe - Đời sống       0.53      0.81      0.64      4637\n",
      "              Thế giới       0.75      0.85      0.80      3255\n",
      "              Thể thao       0.98      0.96      0.97      3840\n",
      "               Thời sự       0.45      0.44      0.45      3117\n",
      "    Văn hóa - Giải trí       0.71      0.83      0.77      4328\n",
      "                    Xe       0.93      0.38      0.54       755\n",
      "                Xã hội       0.42      0.51      0.46      3088\n",
      "\n",
      "              accuracy                           0.65     32244\n",
      "             macro avg       0.52      0.40      0.40     32244\n",
      "          weighted avg       0.64      0.65      0.62     32244\n",
      "\n"
     ]
    },
    {
     "name": "stderr",
     "output_type": "stream",
     "text": [
      "D:\\Python\\venv\\Lib\\site-packages\\sklearn\\metrics\\_classification.py:1731: UndefinedMetricWarning: Precision is ill-defined and being set to 0.0 in labels with no predicted samples. Use `zero_division` parameter to control this behavior.\n",
      "  _warn_prf(average, modifier, f\"{metric.capitalize()} is\", result.shape[0])\n",
      "D:\\Python\\venv\\Lib\\site-packages\\sklearn\\metrics\\_classification.py:1731: UndefinedMetricWarning: Precision is ill-defined and being set to 0.0 in labels with no predicted samples. Use `zero_division` parameter to control this behavior.\n",
      "  _warn_prf(average, modifier, f\"{metric.capitalize()} is\", result.shape[0])\n",
      "D:\\Python\\venv\\Lib\\site-packages\\sklearn\\metrics\\_classification.py:1731: UndefinedMetricWarning: Precision is ill-defined and being set to 0.0 in labels with no predicted samples. Use `zero_division` parameter to control this behavior.\n",
      "  _warn_prf(average, modifier, f\"{metric.capitalize()} is\", result.shape[0])\n"
     ]
    }
   ],
   "source": [
    "from sklearn.naive_bayes import MultinomialNB\n",
    "from sklearn.metrics import accuracy_score, classification_report\n",
    "\n",
    "# 1. Khởi tạo và Huấn luyện mô hình\n",
    "print(\"Bắt đầu huấn luyện mô hình Naive Bayes...\")\n",
    "model = MultinomialNB()\n",
    "model.fit(X_train_tfidf, y_train)\n",
    "print(\"Đã huấn luyện xong!\")\n",
    "\n",
    "# 2. Dự đoán trên tập test\n",
    "print(\"Bắt đầu dự đoán trên tập test...\")\n",
    "y_pred = model.predict(X_test_tfidf)\n",
    "print(\"Đã dự đoán xong!\")\n",
    "\n",
    "# 3. Đánh giá mô hình\n",
    "# Tính toán độ chính xác tổng thể\n",
    "accuracy = accuracy_score(y_test, y_pred)\n",
    "print(\"-\" * 30)\n",
    "print(f\"🎉 Độ chính xác (Accuracy) của mô hình là: {accuracy * 100:.2f}%\")\n",
    "print(\"-\" * 30)\n",
    "\n",
    "# In ra báo cáo chi tiết cho từng thể loại\n",
    "print(\"Báo cáo phân loại chi tiết (Classification Report):\")\n",
    "print(classification_report(y_test, y_pred))"
   ]
  },
  {
   "cell_type": "code",
   "execution_count": null,
   "id": "aade3e9f-9aff-4def-aaaf-7305394d12db",
   "metadata": {},
   "outputs": [],
   "source": []
  }
 ],
 "metadata": {
  "kernelspec": {
   "display_name": "Python 3 (ipykernel)",
   "language": "python",
   "name": "python3"
  },
  "language_info": {
   "codemirror_mode": {
    "name": "ipython",
    "version": 3
   },
   "file_extension": ".py",
   "mimetype": "text/x-python",
   "name": "python",
   "nbconvert_exporter": "python",
   "pygments_lexer": "ipython3",
   "version": "3.13.5"
  }
 },
 "nbformat": 4,
 "nbformat_minor": 5
}
